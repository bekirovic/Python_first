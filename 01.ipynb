{
 "cells": [
  {
   "cell_type": "code",
   "execution_count": 1,
   "id": "2f599376",
   "metadata": {},
   "outputs": [],
   "source": [
    "x=5"
   ]
  },
  {
   "cell_type": "code",
   "execution_count": 2,
   "id": "40fba1b6",
   "metadata": {},
   "outputs": [],
   "source": [
    "y=4"
   ]
  },
  {
   "cell_type": "code",
   "execution_count": 3,
   "id": "3f33f1e5",
   "metadata": {},
   "outputs": [
    {
     "data": {
      "text/plain": [
       "20"
      ]
     },
     "execution_count": 3,
     "metadata": {},
     "output_type": "execute_result"
    }
   ],
   "source": [
    "x*y"
   ]
  },
  {
   "cell_type": "code",
   "execution_count": 4,
   "id": "9cfe8450",
   "metadata": {},
   "outputs": [],
   "source": [
    "benimdegiskenim=10\n",
    "benimdiger=20"
   ]
  },
  {
   "cell_type": "code",
   "execution_count": 5,
   "id": "bebd5dda",
   "metadata": {},
   "outputs": [
    {
     "data": {
      "text/plain": [
       "int"
      ]
     },
     "execution_count": 5,
     "metadata": {},
     "output_type": "execute_result"
    }
   ],
   "source": [
    "type(benimdegiskenim)"
   ]
  },
  {
   "cell_type": "code",
   "execution_count": 6,
   "id": "59108a83",
   "metadata": {},
   "outputs": [
    {
     "data": {
      "text/plain": [
       "<function int.to_bytes(length, byteorder, *, signed=False)>"
      ]
     },
     "execution_count": 6,
     "metadata": {},
     "output_type": "execute_result"
    }
   ],
   "source": [
    "benimdegiskenim.to_bytes"
   ]
  },
  {
   "cell_type": "code",
   "execution_count": 8,
   "id": "aa26f2e0",
   "metadata": {},
   "outputs": [],
   "source": [
    "sonuc=benimdegiskenim / benimdiger "
   ]
  },
  {
   "cell_type": "code",
   "execution_count": 9,
   "id": "14ebf11a",
   "metadata": {},
   "outputs": [
    {
     "data": {
      "text/plain": [
       "0.5"
      ]
     },
     "execution_count": 9,
     "metadata": {},
     "output_type": "execute_result"
    }
   ],
   "source": [
    "sonuc"
   ]
  },
  {
   "cell_type": "code",
   "execution_count": 10,
   "id": "be84c98f",
   "metadata": {},
   "outputs": [
    {
     "data": {
      "text/plain": [
       "float"
      ]
     },
     "execution_count": 10,
     "metadata": {},
     "output_type": "execute_result"
    }
   ],
   "source": [
    "type(sonuc)"
   ]
  },
  {
   "cell_type": "code",
   "execution_count": 11,
   "id": "8df55c47",
   "metadata": {},
   "outputs": [],
   "source": [
    "pi=3.14"
   ]
  },
  {
   "cell_type": "markdown",
   "id": "8cab0dcd",
   "metadata": {},
   "source": [
    "# Matematiksel İşlemler"
   ]
  },
  {
   "cell_type": "code",
   "execution_count": 1,
   "id": "8be3d534",
   "metadata": {},
   "outputs": [
    {
     "data": {
      "text/plain": [
       "16"
      ]
     },
     "execution_count": 1,
     "metadata": {},
     "output_type": "execute_result"
    }
   ],
   "source": [
    "x=2\n",
    "x*x*x*x"
   ]
  },
  {
   "cell_type": "code",
   "execution_count": 13,
   "id": "02c14498",
   "metadata": {},
   "outputs": [
    {
     "data": {
      "text/plain": [
       "8"
      ]
     },
     "execution_count": 13,
     "metadata": {},
     "output_type": "execute_result"
    }
   ],
   "source": [
    "x**3 ## yeni bir yazma işlemi üzeri anlamına geliyor."
   ]
  },
  {
   "cell_type": "code",
   "execution_count": 16,
   "id": "61a07275",
   "metadata": {},
   "outputs": [
    {
     "data": {
      "text/plain": [
       "2"
      ]
     },
     "execution_count": 16,
     "metadata": {},
     "output_type": "execute_result"
    }
   ],
   "source": [
    "10 % 4 ## Reminder- Kalanını bulma, mod"
   ]
  },
  {
   "cell_type": "markdown",
   "id": "1ff13d62",
   "metadata": {},
   "source": [
    "# Input"
   ]
  },
  {
   "cell_type": "code",
   "execution_count": 4,
   "id": "c6e3d68c",
   "metadata": {},
   "outputs": [],
   "source": [
    "z=5"
   ]
  },
  {
   "cell_type": "code",
   "execution_count": 5,
   "id": "691d45e4",
   "metadata": {},
   "outputs": [
    {
     "data": {
      "text/plain": [
       "20"
      ]
     },
     "execution_count": 5,
     "metadata": {},
     "output_type": "execute_result"
    }
   ],
   "source": [
    "z*4"
   ]
  },
  {
   "cell_type": "code",
   "execution_count": 6,
   "id": "ac43ae52",
   "metadata": {},
   "outputs": [
    {
     "data": {
      "text/plain": [
       "'15151515'"
      ]
     },
     "execution_count": 6,
     "metadata": {},
     "output_type": "execute_result"
    }
   ],
   "source": [
    "# x=input(\"enter the number\")\n",
    "x*4 "
   ]
  },
  {
   "cell_type": "code",
   "execution_count": 8,
   "id": "f6f8ab1b",
   "metadata": {},
   "outputs": [
    {
     "data": {
      "text/plain": [
       "str"
      ]
     },
     "execution_count": 8,
     "metadata": {},
     "output_type": "execute_result"
    }
   ],
   "source": [
    "type(x)  ##burda input içerisini direkt metin olarak aldı"
   ]
  },
  {
   "cell_type": "markdown",
   "id": "157117ca",
   "metadata": {},
   "source": [
    "# String"
   ]
  },
  {
   "cell_type": "code",
   "execution_count": 3,
   "id": "3652c752",
   "metadata": {},
   "outputs": [
    {
     "data": {
      "text/plain": [
       "'Merhaba dünya'"
      ]
     },
     "execution_count": 3,
     "metadata": {},
     "output_type": "execute_result"
    }
   ],
   "source": [
    "\"Merhaba dünya\"\n"
   ]
  },
  {
   "cell_type": "code",
   "execution_count": 5,
   "id": "a417cf30",
   "metadata": {},
   "outputs": [],
   "source": [
    "y=\"yeni string\""
   ]
  },
  {
   "cell_type": "code",
   "execution_count": 10,
   "id": "07c9716b",
   "metadata": {},
   "outputs": [
    {
     "data": {
      "text/plain": [
       "'Yeni string'"
      ]
     },
     "execution_count": 10,
     "metadata": {},
     "output_type": "execute_result"
    }
   ],
   "source": [
    "y.capitalize() ## '.' tan sonra tab e basarsan fonksiyonlar çıkar"
   ]
  },
  {
   "cell_type": "code",
   "execution_count": 12,
   "id": "0c0f5585",
   "metadata": {},
   "outputs": [
    {
     "data": {
      "text/plain": [
       "['yeni', 'string']"
      ]
     },
     "execution_count": 12,
     "metadata": {},
     "output_type": "execute_result"
    }
   ],
   "source": [
    "y.split()"
   ]
  },
  {
   "cell_type": "code",
   "execution_count": 16,
   "id": "b12db4f2",
   "metadata": {},
   "outputs": [],
   "source": [
    "x =\" eski string\""
   ]
  },
  {
   "cell_type": "code",
   "execution_count": 15,
   "id": "1aeece4b",
   "metadata": {},
   "outputs": [
    {
     "data": {
      "text/plain": [
       "'eski stringyeni string'"
      ]
     },
     "execution_count": 15,
     "metadata": {},
     "output_type": "execute_result"
    }
   ],
   "source": [
    "x + y"
   ]
  },
  {
   "cell_type": "code",
   "execution_count": 17,
   "id": "8e688858",
   "metadata": {},
   "outputs": [],
   "source": [
    "isimString=\"Bugra Bekir\""
   ]
  },
  {
   "cell_type": "code",
   "execution_count": 18,
   "id": "522da362",
   "metadata": {},
   "outputs": [
    {
     "data": {
      "text/plain": [
       "'Bugra Bekir'"
      ]
     },
     "execution_count": 18,
     "metadata": {},
     "output_type": "execute_result"
    }
   ],
   "source": [
    "isimString"
   ]
  },
  {
   "cell_type": "markdown",
   "id": "8e7ea495",
   "metadata": {},
   "source": [
    "## INDEX"
   ]
  },
  {
   "cell_type": "code",
   "execution_count": 21,
   "id": "5194f721",
   "metadata": {},
   "outputs": [
    {
     "data": {
      "text/plain": [
       "'B'"
      ]
     },
     "execution_count": 21,
     "metadata": {},
     "output_type": "execute_result"
    }
   ],
   "source": [
    "isimString[0] ## burda arrayler gibi düşün indeks öyle çağrılıyor"
   ]
  },
  {
   "cell_type": "code",
   "execution_count": 24,
   "id": "aa968738",
   "metadata": {},
   "outputs": [
    {
     "data": {
      "text/plain": [
       "'r'"
      ]
     },
     "execution_count": 24,
     "metadata": {},
     "output_type": "execute_result"
    }
   ],
   "source": [
    "isimString[-1] ## eksi yapınca sondan başlar"
   ]
  },
  {
   "cell_type": "code",
   "execution_count": 25,
   "id": "6c4d699e",
   "metadata": {},
   "outputs": [],
   "source": [
    "newString=\"0123456789\""
   ]
  },
  {
   "cell_type": "code",
   "execution_count": 26,
   "id": "bac6d444",
   "metadata": {},
   "outputs": [
    {
     "data": {
      "text/plain": [
       "'23456789'"
      ]
     },
     "execution_count": 26,
     "metadata": {},
     "output_type": "execute_result"
    }
   ],
   "source": [
    "newString[2:] ## ikinciden başlayıp sonuna kadar yazdı"
   ]
  },
  {
   "cell_type": "code",
   "execution_count": 27,
   "id": "b2d95bed",
   "metadata": {},
   "outputs": [
    {
     "data": {
      "text/plain": [
       "'01'"
      ]
     },
     "execution_count": 27,
     "metadata": {},
     "output_type": "execute_result"
    }
   ],
   "source": [
    "newString[:2]## ikinciye kadar olan elemanları al"
   ]
  },
  {
   "cell_type": "markdown",
   "id": "74d84c80",
   "metadata": {},
   "source": [
    "# Slicing (kesmek)"
   ]
  },
  {
   "cell_type": "code",
   "execution_count": 28,
   "id": "b18436cb",
   "metadata": {},
   "outputs": [],
   "source": [
    "gelenVeri =\"AhmetinYasi65\""
   ]
  },
  {
   "cell_type": "code",
   "execution_count": 31,
   "id": "0c1bc883",
   "metadata": {},
   "outputs": [
    {
     "data": {
      "text/plain": [
       "'me'"
      ]
     },
     "execution_count": 31,
     "metadata": {},
     "output_type": "execute_result"
    }
   ],
   "source": [
    "gelenVeri[-2:] ## bu sefer tersten aldı aynı mantık\n",
    "gelenVeri[2:4] ## ikiyle dört arası (ikiyi dahil ediyor 4 ü etmiyor. Yani birisi başlangıç diğeri durdurma indexi)"
   ]
  },
  {
   "cell_type": "code",
   "execution_count": 32,
   "id": "b65d6d62",
   "metadata": {},
   "outputs": [],
   "source": [
    "#Step size"
   ]
  },
  {
   "cell_type": "code",
   "execution_count": 33,
   "id": "abd35057",
   "metadata": {},
   "outputs": [
    {
     "data": {
      "text/plain": [
       "'Aens5'"
      ]
     },
     "execution_count": 33,
     "metadata": {},
     "output_type": "execute_result"
    }
   ],
   "source": [
    "gelenVeri[::3] ## baştan başlayarak baştaki sayıyı aldı 2 index atladı 3. yü aldı"
   ]
  },
  {
   "cell_type": "code",
   "execution_count": 34,
   "id": "decbcc57",
   "metadata": {},
   "outputs": [
    {
     "data": {
      "text/plain": [
       "'56isaYnitemhA'"
      ]
     },
     "execution_count": 34,
     "metadata": {},
     "output_type": "execute_result"
    }
   ],
   "source": [
    "gelenVeri[::-1] ## tersini almak için kullanılabilir"
   ]
  },
  {
   "cell_type": "code",
   "execution_count": 35,
   "id": "c58382a7",
   "metadata": {},
   "outputs": [],
   "source": [
    "myName =\"bugra\""
   ]
  },
  {
   "cell_type": "code",
   "execution_count": 36,
   "id": "1ee991ca",
   "metadata": {},
   "outputs": [
    {
     "data": {
      "text/plain": [
       "'Bugra'"
      ]
     },
     "execution_count": 36,
     "metadata": {},
     "output_type": "execute_result"
    }
   ],
   "source": [
    "myName.capitalize()"
   ]
  },
  {
   "cell_type": "code",
   "execution_count": null,
   "id": "caceccc7",
   "metadata": {},
   "outputs": [],
   "source": []
  }
 ],
 "metadata": {
  "kernelspec": {
   "display_name": "Python 3 (ipykernel)",
   "language": "python",
   "name": "python3"
  },
  "language_info": {
   "codemirror_mode": {
    "name": "ipython",
    "version": 3
   },
   "file_extension": ".py",
   "mimetype": "text/x-python",
   "name": "python",
   "nbconvert_exporter": "python",
   "pygments_lexer": "ipython3",
   "version": "3.10.9"
  }
 },
 "nbformat": 4,
 "nbformat_minor": 5
}
