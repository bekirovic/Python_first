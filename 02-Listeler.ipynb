{
 "cells": [
  {
   "cell_type": "code",
   "execution_count": 4,
   "id": "abc5941f",
   "metadata": {},
   "outputs": [],
   "source": [
    "myStr =\"Bugra Bekir\""
   ]
  },
  {
   "cell_type": "code",
   "execution_count": 5,
   "id": "31e05dda",
   "metadata": {},
   "outputs": [
    {
     "data": {
      "text/plain": [
       "'B'"
      ]
     },
     "execution_count": 5,
     "metadata": {},
     "output_type": "execute_result"
    }
   ],
   "source": [
    "myStr[0] "
   ]
  },
  {
   "cell_type": "code",
   "execution_count": 7,
   "id": "cdaddb14",
   "metadata": {},
   "outputs": [],
   "source": [
    "# myStr[0]=\"k\"  ## Degiskenin içi değiştirelemez , immutability"
   ]
  },
  {
   "cell_type": "code",
   "execution_count": 8,
   "id": "9d466465",
   "metadata": {},
   "outputs": [],
   "source": [
    "myList=[1,2,3,4,5]"
   ]
  },
  {
   "cell_type": "code",
   "execution_count": 11,
   "id": "2ccad2ae",
   "metadata": {},
   "outputs": [
    {
     "data": {
      "text/plain": [
       "list"
      ]
     },
     "execution_count": 11,
     "metadata": {},
     "output_type": "execute_result"
    }
   ],
   "source": [
    "type(myList) ##List bir koleksiyondur"
   ]
  },
  {
   "cell_type": "code",
   "execution_count": 12,
   "id": "e8789c45",
   "metadata": {},
   "outputs": [],
   "source": [
    "myList[0]=100"
   ]
  },
  {
   "cell_type": "code",
   "execution_count": 15,
   "id": "7307f373",
   "metadata": {},
   "outputs": [
    {
     "data": {
      "text/plain": [
       "[100, 2, 3, 4, 5]"
      ]
     },
     "execution_count": 15,
     "metadata": {},
     "output_type": "execute_result"
    }
   ],
   "source": [
    "myList ## mutability listenin içindeki elemanlar değiştirilebilir."
   ]
  },
  {
   "cell_type": "code",
   "execution_count": 16,
   "id": "5213a4fe",
   "metadata": {},
   "outputs": [],
   "source": [
    "myList.append(50) ##Listelere append komutuyla veri ekleyebiliyoruz."
   ]
  },
  {
   "cell_type": "code",
   "execution_count": 17,
   "id": "6f1d6f22",
   "metadata": {},
   "outputs": [
    {
     "data": {
      "text/plain": [
       "[100, 2, 3, 4, 5, 50]"
      ]
     },
     "execution_count": 17,
     "metadata": {},
     "output_type": "execute_result"
    }
   ],
   "source": [
    "myList"
   ]
  },
  {
   "cell_type": "code",
   "execution_count": 18,
   "id": "416f6f31",
   "metadata": {},
   "outputs": [
    {
     "data": {
      "text/plain": [
       "50"
      ]
     },
     "execution_count": 18,
     "metadata": {},
     "output_type": "execute_result"
    }
   ],
   "source": [
    "myList.pop() ## Sondaki elemanı atmaya yarıyor"
   ]
  },
  {
   "cell_type": "code",
   "execution_count": 20,
   "id": "57006cd4",
   "metadata": {},
   "outputs": [
    {
     "data": {
      "text/plain": [
       "[100, 2, 3, 4, 5]"
      ]
     },
     "execution_count": 20,
     "metadata": {},
     "output_type": "execute_result"
    }
   ],
   "source": [
    "myList"
   ]
  },
  {
   "cell_type": "code",
   "execution_count": 21,
   "id": "40d80a19",
   "metadata": {},
   "outputs": [
    {
     "data": {
      "text/plain": [
       "1"
      ]
     },
     "execution_count": 21,
     "metadata": {},
     "output_type": "execute_result"
    }
   ],
   "source": [
    "myList.count(100) ## Listede o elemandan kaç tane olduğunu sayıyor"
   ]
  },
  {
   "cell_type": "code",
   "execution_count": 23,
   "id": "7fe4b084",
   "metadata": {},
   "outputs": [],
   "source": [
    "myStrList = [\"bugra\",\"bekir\",\"koc\"] ## Listelerde string olabiliyor"
   ]
  },
  {
   "cell_type": "code",
   "execution_count": 24,
   "id": "ba2a50d5",
   "metadata": {},
   "outputs": [],
   "source": [
    "myStrListR = [\"koc\",\"bekir\",\"bugra\"]"
   ]
  },
  {
   "cell_type": "code",
   "execution_count": 25,
   "id": "7297d241",
   "metadata": {},
   "outputs": [
    {
     "data": {
      "text/plain": [
       "['bugra', 'bekir', 'koc', 'koc', 'bekir', 'bugra']"
      ]
     },
     "execution_count": 25,
     "metadata": {},
     "output_type": "execute_result"
    }
   ],
   "source": [
    "myStrList + myStrListR"
   ]
  },
  {
   "cell_type": "code",
   "execution_count": 26,
   "id": "18efafb6",
   "metadata": {},
   "outputs": [],
   "source": [
    "mixList = [1,2,3,\"bugra\",\"bekir\",\"koc\"]"
   ]
  },
  {
   "cell_type": "code",
   "execution_count": 27,
   "id": "45a4d879",
   "metadata": {},
   "outputs": [
    {
     "data": {
      "text/plain": [
       "[1, 2, 3, 'bugra', 'bekir', 'koc']"
      ]
     },
     "execution_count": 27,
     "metadata": {},
     "output_type": "execute_result"
    }
   ],
   "source": [
    "mixList"
   ]
  },
  {
   "cell_type": "code",
   "execution_count": 28,
   "id": "6925ee5d",
   "metadata": {},
   "outputs": [
    {
     "data": {
      "text/plain": [
       "list"
      ]
     },
     "execution_count": 28,
     "metadata": {},
     "output_type": "execute_result"
    }
   ],
   "source": [
    "type(mixList)"
   ]
  },
  {
   "cell_type": "code",
   "execution_count": 29,
   "id": "7ded8f4f",
   "metadata": {},
   "outputs": [],
   "source": [
    "nestedList = [1,2,\"bugra\",[3,\"bekir\"]] ## Liste içine Liste koyabiliyoruz. "
   ]
  },
  {
   "cell_type": "code",
   "execution_count": 35,
   "id": "8315ff92",
   "metadata": {},
   "outputs": [
    {
     "data": {
      "text/plain": [
       "[3, 'bekir']"
      ]
     },
     "execution_count": 35,
     "metadata": {},
     "output_type": "execute_result"
    }
   ],
   "source": [
    "nestedList[3] ## Nested iç içe demek"
   ]
  },
  {
   "cell_type": "code",
   "execution_count": 37,
   "id": "7714a3cf",
   "metadata": {},
   "outputs": [
    {
     "data": {
      "text/plain": [
       "'bekir'"
      ]
     },
     "execution_count": 37,
     "metadata": {},
     "output_type": "execute_result"
    }
   ],
   "source": [
    "nestedList[3][1] ## Liste içindeki listedeki elemanı böyle çağırabiliriz"
   ]
  },
  {
   "cell_type": "code",
   "execution_count": 1,
   "id": "435271f7",
   "metadata": {},
   "outputs": [
    {
     "data": {
      "text/plain": [
       "'ab'"
      ]
     },
     "execution_count": 1,
     "metadata": {},
     "output_type": "execute_result"
    }
   ],
   "source": [
    "\"a\"\"b\""
   ]
  },
  {
   "cell_type": "code",
   "execution_count": null,
   "id": "5d161143",
   "metadata": {},
   "outputs": [],
   "source": []
  }
 ],
 "metadata": {
  "kernelspec": {
   "display_name": "Python 3 (ipykernel)",
   "language": "python",
   "name": "python3"
  },
  "language_info": {
   "codemirror_mode": {
    "name": "ipython",
    "version": 3
   },
   "file_extension": ".py",
   "mimetype": "text/x-python",
   "name": "python",
   "nbconvert_exporter": "python",
   "pygments_lexer": "ipython3",
   "version": "3.10.9"
  }
 },
 "nbformat": 4,
 "nbformat_minor": 5
}
