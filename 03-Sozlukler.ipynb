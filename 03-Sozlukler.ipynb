{
 "cells": [
  {
   "cell_type": "markdown",
   "id": "1a268988",
   "metadata": {},
   "source": [
    "# Dictionary\n",
    "\n",
    "# key value pairing (anahtar kelime - değer eşleşmesi)"
   ]
  },
  {
   "cell_type": "code",
   "execution_count": 2,
   "id": "2022f933",
   "metadata": {},
   "outputs": [],
   "source": [
    "Foods = [\"elma\",\"Karpuz\",\"Muz\"]"
   ]
  },
  {
   "cell_type": "code",
   "execution_count": 4,
   "id": "ddfbde3e",
   "metadata": {},
   "outputs": [],
   "source": [
    "Calories =[100,200,300]"
   ]
  },
  {
   "cell_type": "code",
   "execution_count": 5,
   "id": "33f2e4af",
   "metadata": {},
   "outputs": [],
   "source": [
    "dictionary={\"anahtar kelime\":\"deger\"}"
   ]
  },
  {
   "cell_type": "code",
   "execution_count": 6,
   "id": "b1b39107",
   "metadata": {},
   "outputs": [
    {
     "data": {
      "text/plain": [
       "dict"
      ]
     },
     "execution_count": 6,
     "metadata": {},
     "output_type": "execute_result"
    }
   ],
   "source": [
    "type(dictionary)"
   ]
  },
  {
   "cell_type": "code",
   "execution_count": 7,
   "id": "cec73941",
   "metadata": {},
   "outputs": [],
   "source": [
    "caloriDictionary = {\"elma\":100,\"karpuz\":200,\"muz\":300}"
   ]
  },
  {
   "cell_type": "code",
   "execution_count": 8,
   "id": "0ef208ce",
   "metadata": {},
   "outputs": [
    {
     "data": {
      "text/plain": [
       "100"
      ]
     },
     "execution_count": 8,
     "metadata": {},
     "output_type": "execute_result"
    }
   ],
   "source": [
    "caloriDictionary[\"elma\"] "
   ]
  },
  {
   "cell_type": "code",
   "execution_count": 11,
   "id": "cc63a576",
   "metadata": {},
   "outputs": [],
   "source": [
    "caloriDictionary[\"elma\"]=400 ##Dictionary deki değeri böyle değiştirebiliyoruz"
   ]
  },
  {
   "cell_type": "code",
   "execution_count": 12,
   "id": "b610fd95",
   "metadata": {},
   "outputs": [
    {
     "data": {
      "text/plain": [
       "{'elma': 400, 'karpuz': 200, 'muz': 300}"
      ]
     },
     "execution_count": 12,
     "metadata": {},
     "output_type": "execute_result"
    }
   ],
   "source": [
    "caloriDictionary"
   ]
  },
  {
   "cell_type": "code",
   "execution_count": 13,
   "id": "250e5e79",
   "metadata": {},
   "outputs": [],
   "source": [
    "NewDictionary ={\"key1\":100,\"key2\":[10,20,30,\"bugra\"],\"key3\":{\"key4\":15}}"
   ]
  },
  {
   "cell_type": "code",
   "execution_count": 17,
   "id": "a715ed95",
   "metadata": {},
   "outputs": [
    {
     "data": {
      "text/plain": [
       "30"
      ]
     },
     "execution_count": 17,
     "metadata": {},
     "output_type": "execute_result"
    }
   ],
   "source": [
    "NewDictionary[\"key2\"][2]"
   ]
  },
  {
   "cell_type": "code",
   "execution_count": 24,
   "id": "dce662a2",
   "metadata": {},
   "outputs": [
    {
     "data": {
      "text/plain": [
       "dict_keys(['key1', 'key2', 'key3'])"
      ]
     },
     "execution_count": 24,
     "metadata": {},
     "output_type": "execute_result"
    }
   ],
   "source": [
    "NewDictionary.keys() ## Sözlüğün içinde anahtar kelimelere ihtiyaç duyarsan use"
   ]
  },
  {
   "cell_type": "code",
   "execution_count": 25,
   "id": "decb6ae5",
   "metadata": {},
   "outputs": [
    {
     "data": {
      "text/plain": [
       "dict_values([100, [10, 20, 30, 'bugra'], {'key4': 15}])"
      ]
     },
     "execution_count": 25,
     "metadata": {},
     "output_type": "execute_result"
    }
   ],
   "source": [
    "NewDictionary.values() ## Değerleri verir"
   ]
  },
  {
   "cell_type": "code",
   "execution_count": 26,
   "id": "7a33786b",
   "metadata": {},
   "outputs": [
    {
     "data": {
      "text/plain": [
       "'bugra'"
      ]
     },
     "execution_count": 26,
     "metadata": {},
     "output_type": "execute_result"
    }
   ],
   "source": [
    "NewDictionary[\"key2\"][3]"
   ]
  },
  {
   "cell_type": "code",
   "execution_count": 34,
   "id": "996b195f",
   "metadata": {},
   "outputs": [
    {
     "data": {
      "text/plain": [
       "15"
      ]
     },
     "execution_count": 34,
     "metadata": {},
     "output_type": "execute_result"
    }
   ],
   "source": [
    "NewDictionary[\"key3\"][\"key4\"]"
   ]
  },
  {
   "cell_type": "code",
   "execution_count": null,
   "id": "49f4703b",
   "metadata": {},
   "outputs": [],
   "source": []
  }
 ],
 "metadata": {
  "kernelspec": {
   "display_name": "Python 3 (ipykernel)",
   "language": "python",
   "name": "python3"
  },
  "language_info": {
   "codemirror_mode": {
    "name": "ipython",
    "version": 3
   },
   "file_extension": ".py",
   "mimetype": "text/x-python",
   "name": "python",
   "nbconvert_exporter": "python",
   "pygments_lexer": "ipython3",
   "version": "3.10.9"
  }
 },
 "nbformat": 4,
 "nbformat_minor": 5
}
