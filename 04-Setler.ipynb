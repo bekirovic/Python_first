{
 "cells": [
  {
   "cell_type": "code",
   "execution_count": 19,
   "id": "a0964479",
   "metadata": {},
   "outputs": [],
   "source": [
    "myList =[5,3,2,3,41,4,4,5];"
   ]
  },
  {
   "cell_type": "code",
   "execution_count": 20,
   "id": "03d699f5",
   "metadata": {},
   "outputs": [
    {
     "data": {
      "text/plain": [
       "[5, 3, 2, 3, 41, 4, 4, 5]"
      ]
     },
     "execution_count": 20,
     "metadata": {},
     "output_type": "execute_result"
    }
   ],
   "source": [
    "myList"
   ]
  },
  {
   "cell_type": "code",
   "execution_count": 21,
   "id": "905fe298",
   "metadata": {},
   "outputs": [],
   "source": [
    "myListSet = set(myList) ## Setler birden fazla bulunan elemanın fazlasını çıkarır"
   ]
  },
  {
   "cell_type": "code",
   "execution_count": 24,
   "id": "aad48c4b",
   "metadata": {},
   "outputs": [
    {
     "data": {
      "text/plain": [
       "{2, 3, 4, 5, 41}"
      ]
     },
     "execution_count": 24,
     "metadata": {},
     "output_type": "execute_result"
    }
   ],
   "source": [
    "myListSet ##Aynı zamanda büyükten küçüğe doğru sıralıyor"
   ]
  },
  {
   "cell_type": "code",
   "execution_count": 23,
   "id": "56351f56",
   "metadata": {},
   "outputs": [
    {
     "data": {
      "text/plain": [
       "set"
      ]
     },
     "execution_count": 23,
     "metadata": {},
     "output_type": "execute_result"
    }
   ],
   "source": [
    "type(myListSet)"
   ]
  },
  {
   "cell_type": "code",
   "execution_count": 26,
   "id": "5ba2069d",
   "metadata": {},
   "outputs": [],
   "source": [
    "mySet ={\"a\",\"b\",\"c\",\"a\"}"
   ]
  },
  {
   "cell_type": "code",
   "execution_count": 27,
   "id": "21c3fe5d",
   "metadata": {},
   "outputs": [
    {
     "data": {
      "text/plain": [
       "set"
      ]
     },
     "execution_count": 27,
     "metadata": {},
     "output_type": "execute_result"
    }
   ],
   "source": [
    "type(mySet)"
   ]
  },
  {
   "cell_type": "code",
   "execution_count": 29,
   "id": "a523dfb8",
   "metadata": {},
   "outputs": [
    {
     "data": {
      "text/plain": [
       "{'a', 'b', 'c'}"
      ]
     },
     "execution_count": 29,
     "metadata": {},
     "output_type": "execute_result"
    }
   ],
   "source": [
    "mySet ## Setlerde aynı elemandan sadece 1 tane olur"
   ]
  },
  {
   "cell_type": "code",
   "execution_count": 31,
   "id": "bbb23090",
   "metadata": {},
   "outputs": [],
   "source": [
    "emptySet = {}"
   ]
  },
  {
   "cell_type": "code",
   "execution_count": 32,
   "id": "f083ebb7",
   "metadata": {},
   "outputs": [
    {
     "data": {
      "text/plain": [
       "dict"
      ]
     },
     "execution_count": 32,
     "metadata": {},
     "output_type": "execute_result"
    }
   ],
   "source": [
    "type(emptySet) ## Boş seti dictinory sanıyor"
   ]
  },
  {
   "cell_type": "code",
   "execution_count": 33,
   "id": "476e5717",
   "metadata": {},
   "outputs": [],
   "source": [
    "emptyDict = {}"
   ]
  },
  {
   "cell_type": "code",
   "execution_count": 37,
   "id": "e43c6160",
   "metadata": {},
   "outputs": [],
   "source": [
    "emptyDict[\"key1\"]=100"
   ]
  },
  {
   "cell_type": "code",
   "execution_count": 39,
   "id": "21366b69",
   "metadata": {},
   "outputs": [
    {
     "data": {
      "text/plain": [
       "{'key1': 100}"
      ]
     },
     "execution_count": 39,
     "metadata": {},
     "output_type": "execute_result"
    }
   ],
   "source": [
    "emptyDict"
   ]
  },
  {
   "cell_type": "code",
   "execution_count": 40,
   "id": "515d7cc7",
   "metadata": {},
   "outputs": [],
   "source": [
    "myEmptyset=set() ## Set böyle tanımlanıyor"
   ]
  },
  {
   "cell_type": "code",
   "execution_count": 41,
   "id": "14944e38",
   "metadata": {},
   "outputs": [
    {
     "data": {
      "text/plain": [
       "set"
      ]
     },
     "execution_count": 41,
     "metadata": {},
     "output_type": "execute_result"
    }
   ],
   "source": [
    "type(myEmptyset)"
   ]
  },
  {
   "cell_type": "code",
   "execution_count": 42,
   "id": "87d7dc50",
   "metadata": {},
   "outputs": [],
   "source": [
    "myEmptyset.add(10)"
   ]
  },
  {
   "cell_type": "code",
   "execution_count": 43,
   "id": "7c4667f5",
   "metadata": {},
   "outputs": [],
   "source": [
    "myEmptyset.add(10)"
   ]
  },
  {
   "cell_type": "code",
   "execution_count": 44,
   "id": "c642b026",
   "metadata": {},
   "outputs": [],
   "source": [
    "myEmptyset.add(20)"
   ]
  },
  {
   "cell_type": "code",
   "execution_count": 47,
   "id": "9a69565c",
   "metadata": {},
   "outputs": [
    {
     "data": {
      "text/plain": [
       "{10, 20}"
      ]
     },
     "execution_count": 47,
     "metadata": {},
     "output_type": "execute_result"
    }
   ],
   "source": [
    "myEmptyset"
   ]
  },
  {
   "cell_type": "code",
   "execution_count": null,
   "id": "c5bc8d2a",
   "metadata": {},
   "outputs": [],
   "source": []
  }
 ],
 "metadata": {
  "kernelspec": {
   "display_name": "Python 3 (ipykernel)",
   "language": "python",
   "name": "python3"
  },
  "language_info": {
   "codemirror_mode": {
    "name": "ipython",
    "version": 3
   },
   "file_extension": ".py",
   "mimetype": "text/x-python",
   "name": "python",
   "nbconvert_exporter": "python",
   "pygments_lexer": "ipython3",
   "version": "3.10.9"
  }
 },
 "nbformat": 4,
 "nbformat_minor": 5
}
