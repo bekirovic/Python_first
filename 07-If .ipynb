{
 "cells": [
  {
   "cell_type": "code",
   "execution_count": 2,
   "id": "cfa61db1",
   "metadata": {},
   "outputs": [
    {
     "name": "stdout",
     "output_type": "stream",
     "text": [
      "bkk\n"
     ]
    }
   ],
   "source": [
    "if 3 > 1 : ## Pyhtonda boşluklar önemlidir.\n",
    "    print(\"bkk\")"
   ]
  },
  {
   "cell_type": "code",
   "execution_count": 3,
   "id": "c730a004",
   "metadata": {},
   "outputs": [
    {
     "name": "stdout",
     "output_type": "stream",
     "text": [
      "tab olmadıgı icin kosuldan cıktık\n"
     ]
    }
   ],
   "source": [
    "if 4>6 :\n",
    "    print(\"bkk\")\n",
    "print(\"tab olmadıgı icin kosuldan cıktık\")"
   ]
  },
  {
   "cell_type": "code",
   "execution_count": 13,
   "id": "25cf98bd",
   "metadata": {},
   "outputs": [
    {
     "name": "stdout",
     "output_type": "stream",
     "text": [
      "bkkkoc\n"
     ]
    }
   ],
   "source": [
    "if 4 <4 :\n",
    "    print(\"bkk\")\n",
    "elif  4>4:\n",
    "    print(\"koc\")\n",
    "else:\n",
    "    print(\"bkkkoc\")"
   ]
  },
  {
   "cell_type": "code",
   "execution_count": 17,
   "id": "3874daa4",
   "metadata": {},
   "outputs": [
    {
     "name": "stdout",
     "output_type": "stream",
     "text": [
      "Enter a hero \n",
      " Batman \n",
      " Superman \n",
      " Ironman \n",
      " bbk\n"
     ]
    }
   ],
   "source": [
    "myHero = input(\"Enter a hero \\n Batman \\n Superman \\n Ironman \\n \")"
   ]
  },
  {
   "cell_type": "code",
   "execution_count": 19,
   "id": "9174f83a",
   "metadata": {},
   "outputs": [
    {
     "name": "stdout",
     "output_type": "stream",
     "text": [
      "Aferin lan sende is var\n"
     ]
    }
   ],
   "source": [
    "if myHero == \"Batman\":\n",
    "    print(\"Batman mi sehir olan mı?\")\n",
    "elif myHero == \"Superman\":\n",
    "    print(\"kriptonitle pert\")\n",
    "elif myHero == \"Ironman\":\n",
    "    print(\"Mıgnatıs koysam bitersin\")\n",
    "else:\n",
    "    print(\"Aferin lan sende is var\")"
   ]
  },
  {
   "cell_type": "code",
   "execution_count": 22,
   "id": "6c17bde3",
   "metadata": {},
   "outputs": [],
   "source": [
    "charAlive = True"
   ]
  },
  {
   "cell_type": "code",
   "execution_count": 23,
   "id": "f1b39d67",
   "metadata": {},
   "outputs": [
    {
     "name": "stdout",
     "output_type": "stream",
     "text": [
      "Alive\n"
     ]
    }
   ],
   "source": [
    "if charAlive == True:\n",
    "    print(\"Alive\")\n",
    "else:\n",
    "    print(\"Dead\")"
   ]
  },
  {
   "cell_type": "code",
   "execution_count": 24,
   "id": "67ec892c",
   "metadata": {},
   "outputs": [
    {
     "name": "stdout",
     "output_type": "stream",
     "text": [
      "Alive\n"
     ]
    }
   ],
   "source": [
    "if charAlive: ## Burda == true diye belirtmeye gerek yok zaten yukarda 1 dedik\n",
    "    print(\"Alive\")\n",
    "else:\n",
    "    print(\"Dead\")"
   ]
  },
  {
   "cell_type": "code",
   "execution_count": 26,
   "id": "fdc6f5f7",
   "metadata": {},
   "outputs": [
    {
     "name": "stdout",
     "output_type": "stream",
     "text": [
      "Dead\n"
     ]
    }
   ],
   "source": [
    "if not charAlive:\n",
    "    print(\"Alive\")\n",
    "else:\n",
    "    print(\"Dead\")"
   ]
  },
  {
   "cell_type": "code",
   "execution_count": 27,
   "id": "2be539f5",
   "metadata": {},
   "outputs": [],
   "source": [
    "myStr=\"Bugra Bekir\""
   ]
  },
  {
   "cell_type": "code",
   "execution_count": 29,
   "id": "6f037e34",
   "metadata": {},
   "outputs": [
    {
     "name": "stdout",
     "output_type": "stream",
     "text": [
      "var\n"
     ]
    }
   ],
   "source": [
    "if \"Bekir\" in myStr: ## \"in\" komutu var mı anlamına geliyor.\n",
    "    print(\"var\")\n",
    "else:\n",
    "    print(\"yok\")"
   ]
  },
  {
   "cell_type": "code",
   "execution_count": 30,
   "id": "9cdb6e1f",
   "metadata": {},
   "outputs": [],
   "source": [
    "myList=[1,2,3,4]"
   ]
  },
  {
   "cell_type": "code",
   "execution_count": 31,
   "id": "e515ec69",
   "metadata": {},
   "outputs": [
    {
     "name": "stdout",
     "output_type": "stream",
     "text": [
      "yokmus\n"
     ]
    }
   ],
   "source": [
    "if 5 in myList:\n",
    "    print(\"varmıs\")\n",
    "else:\n",
    "    print(\"yokmus\")"
   ]
  },
  {
   "cell_type": "code",
   "execution_count": 39,
   "id": "ec9adba7",
   "metadata": {},
   "outputs": [],
   "source": [
    "myDict = {\"key1\":10,\"key2\":20,\"key3\":30}"
   ]
  },
  {
   "cell_type": "code",
   "execution_count": 40,
   "id": "f453fd51",
   "metadata": {},
   "outputs": [
    {
     "name": "stdout",
     "output_type": "stream",
     "text": [
      "vardır\n"
     ]
    }
   ],
   "source": [
    "if \"key1\" in myDict.keys():\n",
    "    print(\"vardır\")\n",
    "else:\n",
    "    print(\"yokmus\")"
   ]
  },
  {
   "cell_type": "code",
   "execution_count": 42,
   "id": "16b65dec",
   "metadata": {},
   "outputs": [
    {
     "name": "stdout",
     "output_type": "stream",
     "text": [
      "vardır\n"
     ]
    }
   ],
   "source": [
    "if 10 in myDict.values():\n",
    "    print(\"vardır\")\n",
    "else:\n",
    "    print(\"yokmus\")"
   ]
  },
  {
   "cell_type": "code",
   "execution_count": 3,
   "id": "e73fdada",
   "metadata": {},
   "outputs": [
    {
     "name": "stdout",
     "output_type": "stream",
     "text": [
      "enter a number10\n"
     ]
    }
   ],
   "source": [
    "import cmath\n",
    "x=0\n",
    "x=input(\"enter a number\")\n",
    "if type(x)==float:\n",
    "    y=float(x**0.5)\n",
    "    print(\"the square root of %f is %f\"%(x,y))\n",
    "elif x==complex(x):\n",
    "    y=cmath.sqrt(x)"
   ]
  },
  {
   "cell_type": "code",
   "execution_count": null,
   "id": "7652ddcf",
   "metadata": {},
   "outputs": [],
   "source": []
  }
 ],
 "metadata": {
  "kernelspec": {
   "display_name": "Python 3 (ipykernel)",
   "language": "python",
   "name": "python3"
  },
  "language_info": {
   "codemirror_mode": {
    "name": "ipython",
    "version": 3
   },
   "file_extension": ".py",
   "mimetype": "text/x-python",
   "name": "python",
   "nbconvert_exporter": "python",
   "pygments_lexer": "ipython3",
   "version": "3.10.9"
  }
 },
 "nbformat": 4,
 "nbformat_minor": 5
}
