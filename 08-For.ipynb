{
 "cells": [
  {
   "cell_type": "code",
   "execution_count": 1,
   "id": "cc096151",
   "metadata": {},
   "outputs": [],
   "source": [
    "myList = [10,20,30,40]"
   ]
  },
  {
   "cell_type": "code",
   "execution_count": 2,
   "id": "23b7c5e1",
   "metadata": {},
   "outputs": [
    {
     "name": "stdout",
     "output_type": "stream",
     "text": [
      "10\n",
      "20\n",
      "30\n",
      "40\n"
     ]
    }
   ],
   "source": [
    "for number in myList:\n",
    "    print(number)"
   ]
  },
  {
   "cell_type": "code",
   "execution_count": 3,
   "id": "6fed96a9",
   "metadata": {},
   "outputs": [],
   "source": [
    "newList = [0,1,2,3,4,5,6]"
   ]
  },
  {
   "cell_type": "code",
   "execution_count": 9,
   "id": "441b13fc",
   "metadata": {},
   "outputs": [
    {
     "name": "stdout",
     "output_type": "stream",
     "text": [
      "0  is even\n",
      "1  is odd\n",
      "2  is even\n",
      "3  is odd\n",
      "4  is even\n",
      "5  is odd\n",
      "6  is even\n"
     ]
    }
   ],
   "source": [
    "for num in newList:\n",
    "    if num%2 == 0:\n",
    "        print(num,\" is even\")\n",
    "    else:\n",
    "        print(num,\" is odd\")"
   ]
  },
  {
   "cell_type": "code",
   "execution_count": 19,
   "id": "6adbbe17",
   "metadata": {},
   "outputs": [],
   "source": [
    "CoorList =[(10.2,15.3),(34.3,54.2),(5.6,3.2)]"
   ]
  },
  {
   "cell_type": "code",
   "execution_count": 20,
   "id": "e6e72542",
   "metadata": {},
   "outputs": [
    {
     "name": "stdout",
     "output_type": "stream",
     "text": [
      "10.2\n",
      "34.3\n",
      "5.6\n"
     ]
    }
   ],
   "source": [
    "for eleman in CoorList:\n",
    "    print(eleman[0])"
   ]
  },
  {
   "cell_type": "code",
   "execution_count": 21,
   "id": "07ea0f11",
   "metadata": {},
   "outputs": [
    {
     "name": "stdout",
     "output_type": "stream",
     "text": [
      "15.3\n",
      "54.2\n",
      "3.2\n"
     ]
    }
   ],
   "source": [
    "for (x,y) in CoorList:\n",
    "    print(y)"
   ]
  },
  {
   "cell_type": "code",
   "execution_count": 17,
   "id": "446e4354",
   "metadata": {},
   "outputs": [],
   "source": [
    "kList = [(1,2,3),(4,5,6),(7,8,9)]"
   ]
  },
  {
   "cell_type": "code",
   "execution_count": 18,
   "id": "85171da1",
   "metadata": {},
   "outputs": [
    {
     "name": "stdout",
     "output_type": "stream",
     "text": [
      "3\n",
      "6\n",
      "9\n"
     ]
    }
   ],
   "source": [
    "for (x,y,z) in kList:\n",
    "    print(z)"
   ]
  },
  {
   "cell_type": "code",
   "execution_count": 22,
   "id": "7c3cf3db",
   "metadata": {},
   "outputs": [],
   "source": [
    "myDict={\"key1\":1,\"key2\":2,\"key3\":3}"
   ]
  },
  {
   "cell_type": "code",
   "execution_count": 26,
   "id": "d6018400",
   "metadata": {},
   "outputs": [
    {
     "data": {
      "text/plain": [
       "dict_items"
      ]
     },
     "execution_count": 26,
     "metadata": {},
     "output_type": "execute_result"
    }
   ],
   "source": [
    "type(myDict.items()) ## kendine özgü bir tip ama tuple gibi"
   ]
  },
  {
   "cell_type": "code",
   "execution_count": 27,
   "id": "9d477659",
   "metadata": {},
   "outputs": [
    {
     "data": {
      "text/plain": [
       "dict_items([('key1', 1), ('key2', 2), ('key3', 3)])"
      ]
     },
     "execution_count": 27,
     "metadata": {},
     "output_type": "execute_result"
    }
   ],
   "source": [
    "myDict.items()"
   ]
  },
  {
   "cell_type": "code",
   "execution_count": 30,
   "id": "8ccf6773",
   "metadata": {},
   "outputs": [
    {
     "name": "stdout",
     "output_type": "stream",
     "text": [
      "key1 1\n",
      "key2 2\n",
      "key3 3\n"
     ]
    }
   ],
   "source": [
    "for (key,value) in myDict.items(): ## Bu şekilde içindeki items ları yazdırabiliyoruz\n",
    "    print(key,value)"
   ]
  },
  {
   "cell_type": "code",
   "execution_count": null,
   "id": "dbf30422",
   "metadata": {},
   "outputs": [],
   "source": []
  }
 ],
 "metadata": {
  "kernelspec": {
   "display_name": "Python 3 (ipykernel)",
   "language": "python",
   "name": "python3"
  },
  "language_info": {
   "codemirror_mode": {
    "name": "ipython",
    "version": 3
   },
   "file_extension": ".py",
   "mimetype": "text/x-python",
   "name": "python",
   "nbconvert_exporter": "python",
   "pygments_lexer": "ipython3",
   "version": "3.10.9"
  }
 },
 "nbformat": 4,
 "nbformat_minor": 5
}
