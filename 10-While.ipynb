{
 "cells": [
  {
   "cell_type": "code",
   "execution_count": 1,
   "id": "3ef3ad12",
   "metadata": {},
   "outputs": [],
   "source": [
    "## bir koşul tuttuğu sürece devam et"
   ]
  },
  {
   "cell_type": "code",
   "execution_count": 5,
   "id": "61e48cdf",
   "metadata": {},
   "outputs": [
    {
     "name": "stdout",
     "output_type": "stream",
     "text": [
      "1\n",
      "2\n",
      "3\n",
      "4\n",
      "5\n",
      "6\n",
      "7\n",
      "8\n",
      "9\n",
      "10\n"
     ]
    }
   ],
   "source": [
    "x=0\n",
    "while x<10:\n",
    "    x=x+1\n",
    "    print(x)"
   ]
  },
  {
   "cell_type": "code",
   "execution_count": 10,
   "id": "4a673f2a",
   "metadata": {},
   "outputs": [],
   "source": [
    "myList = [1,2,3,4,5,6]"
   ]
  },
  {
   "cell_type": "code",
   "execution_count": 11,
   "id": "8f355140",
   "metadata": {},
   "outputs": [
    {
     "name": "stdout",
     "output_type": "stream",
     "text": [
      "6\n",
      "5\n",
      "4\n",
      "3\n"
     ]
    }
   ],
   "source": [
    "while 3 in myList:\n",
    "       print(myList.pop())"
   ]
  },
  {
   "cell_type": "code",
   "execution_count": 14,
   "id": "731fb5ef",
   "metadata": {},
   "outputs": [
    {
     "name": "stdout",
     "output_type": "stream",
     "text": [
      "new güncel degeri:0\n",
      "new güncel degeri:1\n",
      "new güncel degeri:2\n",
      "new güncel degeri:3\n",
      "new güncel degeri:4\n",
      "new güncel degeri:5\n",
      "new güncel degeri:6\n",
      "new güncel degeri:7\n",
      "new güncel degeri:8\n",
      "new güncel degeri:9\n",
      "new güncel degeri:10\n",
      "new güncel degeri:11\n",
      "new güncel degeri:12\n",
      "new güncel degeri:13\n",
      "new güncel degeri:14\n"
     ]
    }
   ],
   "source": [
    "new=0\n",
    "while new < 15:\n",
    "    #print(\"new güncel degeri:\" + str(new))\n",
    "    print(f\"new güncel degeri:{new}\") ## \"f\"(format) komutu süslü parantez içine yazdığım şeyleri kod olarak anla diyor\n",
    "    new=new+1"
   ]
  },
  {
   "cell_type": "code",
   "execution_count": null,
   "id": "3ef7303e",
   "metadata": {},
   "outputs": [],
   "source": []
  }
 ],
 "metadata": {
  "kernelspec": {
   "display_name": "Python 3 (ipykernel)",
   "language": "python",
   "name": "python3"
  },
  "language_info": {
   "codemirror_mode": {
    "name": "ipython",
    "version": 3
   },
   "file_extension": ".py",
   "mimetype": "text/x-python",
   "name": "python",
   "nbconvert_exporter": "python",
   "pygments_lexer": "ipython3",
   "version": "3.10.9"
  }
 },
 "nbformat": 4,
 "nbformat_minor": 5
}
