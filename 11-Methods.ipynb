{
 "cells": [
  {
   "cell_type": "markdown",
   "id": "3d743f21",
   "metadata": {},
   "source": [
    "# range()"
   ]
  },
  {
   "cell_type": "code",
   "execution_count": 1,
   "id": "f59e6dcb",
   "metadata": {},
   "outputs": [
    {
     "data": {
      "text/plain": [
       "range(0, 15)"
      ]
     },
     "execution_count": 1,
     "metadata": {},
     "output_type": "execute_result"
    }
   ],
   "source": [
    "range(15)"
   ]
  },
  {
   "cell_type": "code",
   "execution_count": 3,
   "id": "978df45d",
   "metadata": {},
   "outputs": [
    {
     "data": {
      "text/plain": [
       "[0, 1, 2, 3, 4, 5, 6, 7, 8, 9, 10, 11, 12, 13, 14]"
      ]
     },
     "execution_count": 3,
     "metadata": {},
     "output_type": "execute_result"
    }
   ],
   "source": [
    "list(range(15)) ## 15 e kadar yazdırdı"
   ]
  },
  {
   "cell_type": "code",
   "execution_count": 4,
   "id": "61020201",
   "metadata": {},
   "outputs": [
    {
     "name": "stdout",
     "output_type": "stream",
     "text": [
      "0\n",
      "5\n",
      "10\n",
      "15\n",
      "20\n",
      "25\n",
      "30\n",
      "35\n",
      "40\n",
      "45\n",
      "50\n",
      "55\n",
      "60\n",
      "65\n",
      "70\n"
     ]
    }
   ],
   "source": [
    "for num in list(range(15)):\n",
    "    print(num*5)"
   ]
  },
  {
   "cell_type": "code",
   "execution_count": 6,
   "id": "b4af1035",
   "metadata": {},
   "outputs": [
    {
     "data": {
      "text/plain": [
       "[5, 9, 13, 17, 21, 25, 29, 33, 37, 41, 45, 49]"
      ]
     },
     "execution_count": 6,
     "metadata": {},
     "output_type": "execute_result"
    }
   ],
   "source": [
    "list(range(5,50,4)) ## shift tab yaparak kullanımını görebilirsin."
   ]
  },
  {
   "cell_type": "markdown",
   "id": "f6687a64",
   "metadata": {},
   "source": [
    "# enumerate"
   ]
  },
  {
   "cell_type": "code",
   "execution_count": 10,
   "id": "aa549623",
   "metadata": {},
   "outputs": [
    {
     "name": "stdout",
     "output_type": "stream",
     "text": [
      "güncel numara: 5 güncel index: 0\n",
      "güncel numara: 6 güncel index: 1\n",
      "güncel numara: 7 güncel index: 2\n",
      "güncel numara: 8 güncel index: 3\n",
      "güncel numara: 9 güncel index: 4\n",
      "güncel numara: 10 güncel index: 5\n",
      "güncel numara: 11 güncel index: 6\n",
      "güncel numara: 12 güncel index: 7\n",
      "güncel numara: 13 güncel index: 8\n",
      "güncel numara: 14 güncel index: 9\n"
     ]
    }
   ],
   "source": [
    "index = 0\n",
    "for num in list(range(5,15)):\n",
    "    print(f\"güncel numara: {num} güncel index: {index}\")\n",
    "    index = index+1"
   ]
  },
  {
   "cell_type": "code",
   "execution_count": 11,
   "id": "92d86723",
   "metadata": {},
   "outputs": [
    {
     "name": "stdout",
     "output_type": "stream",
     "text": [
      "(0, 5)\n",
      "(1, 6)\n",
      "(2, 7)\n",
      "(3, 8)\n",
      "(4, 9)\n",
      "(5, 10)\n",
      "(6, 11)\n",
      "(7, 12)\n",
      "(8, 13)\n",
      "(9, 14)\n"
     ]
    }
   ],
   "source": [
    "for values in enumerate(list(range(5,15))):\n",
    "    print(values)"
   ]
  },
  {
   "cell_type": "code",
   "execution_count": 12,
   "id": "912b65e8",
   "metadata": {},
   "outputs": [
    {
     "data": {
      "text/plain": [
       "tuple"
      ]
     },
     "execution_count": 12,
     "metadata": {},
     "output_type": "execute_result"
    }
   ],
   "source": [
    "type(values)"
   ]
  },
  {
   "cell_type": "code",
   "execution_count": 15,
   "id": "39e9fdac",
   "metadata": {},
   "outputs": [
    {
     "name": "stdout",
     "output_type": "stream",
     "text": [
      "0 5\n",
      "1 6\n",
      "2 7\n",
      "3 8\n",
      "4 9\n",
      "5 10\n",
      "6 11\n",
      "7 12\n",
      "8 13\n",
      "9 14\n"
     ]
    }
   ],
   "source": [
    "for (index,values) in enumerate(list(range(5,15))):\n",
    "    print(index,values)"
   ]
  },
  {
   "cell_type": "markdown",
   "id": "dfa0a49e",
   "metadata": {},
   "source": [
    "# random"
   ]
  },
  {
   "cell_type": "code",
   "execution_count": 17,
   "id": "fd8758f9",
   "metadata": {},
   "outputs": [],
   "source": [
    "from random import randint ## random kütüphanesi içinden randint fonksiyonunu getir"
   ]
  },
  {
   "cell_type": "code",
   "execution_count": 18,
   "id": "27d1eaba",
   "metadata": {},
   "outputs": [
    {
     "data": {
      "text/plain": [
       "71"
      ]
     },
     "execution_count": 18,
     "metadata": {},
     "output_type": "execute_result"
    }
   ],
   "source": [
    "randint(0,100)"
   ]
  },
  {
   "cell_type": "code",
   "execution_count": 21,
   "id": "650fc761",
   "metadata": {},
   "outputs": [],
   "source": [
    "newList=list(range(5,15,2))"
   ]
  },
  {
   "cell_type": "code",
   "execution_count": 22,
   "id": "e18c184a",
   "metadata": {},
   "outputs": [
    {
     "data": {
      "text/plain": [
       "[5, 7, 9, 11, 13]"
      ]
     },
     "execution_count": 22,
     "metadata": {},
     "output_type": "execute_result"
    }
   ],
   "source": [
    "newList"
   ]
  },
  {
   "cell_type": "code",
   "execution_count": 28,
   "id": "d37763d0",
   "metadata": {},
   "outputs": [],
   "source": [
    "from random import shuffle ## Rastgele şekilde sıra değiştir"
   ]
  },
  {
   "cell_type": "code",
   "execution_count": 29,
   "id": "4851a9d6",
   "metadata": {},
   "outputs": [],
   "source": [
    "shuffle(newList)"
   ]
  },
  {
   "cell_type": "code",
   "execution_count": 30,
   "id": "4e019980",
   "metadata": {},
   "outputs": [
    {
     "data": {
      "text/plain": [
       "[9, 5, 7, 13, 11]"
      ]
     },
     "execution_count": 30,
     "metadata": {},
     "output_type": "execute_result"
    }
   ],
   "source": [
    "newList"
   ]
  },
  {
   "cell_type": "markdown",
   "id": "733b5c0f",
   "metadata": {},
   "source": [
    "# zip"
   ]
  },
  {
   "cell_type": "code",
   "execution_count": 32,
   "id": "991a32bd",
   "metadata": {},
   "outputs": [],
   "source": [
    "food = [\"muz\",\"ananas\",\"elma\"]\n",
    "calori = [100,200,300]\n",
    "day = [\"pazartesi\",\"salı\",\"çarşamba\"]"
   ]
  },
  {
   "cell_type": "code",
   "execution_count": 38,
   "id": "c0e17d0e",
   "metadata": {},
   "outputs": [
    {
     "data": {
      "text/plain": [
       "[('muz', 100, 'pazartesi'), ('ananas', 200, 'salı'), ('elma', 300, 'çarşamba')]"
      ]
     },
     "execution_count": 38,
     "metadata": {},
     "output_type": "execute_result"
    }
   ],
   "source": [
    "x=list(zip(food,calori,day))\n",
    "x"
   ]
  },
  {
   "cell_type": "code",
   "execution_count": 36,
   "id": "852c69ad",
   "metadata": {},
   "outputs": [
    {
     "name": "stdout",
     "output_type": "stream",
     "text": [
      "<class 'tuple'>\n",
      "<class 'tuple'>\n",
      "<class 'tuple'>\n"
     ]
    }
   ],
   "source": [
    "for element in list(zip(food,calori,day)):\n",
    "    print(type(element))"
   ]
  },
  {
   "cell_type": "markdown",
   "id": "30df1161",
   "metadata": {},
   "source": [
    "# listeler ileri seviye"
   ]
  },
  {
   "cell_type": "code",
   "execution_count": 42,
   "id": "b7d80f3e",
   "metadata": {},
   "outputs": [],
   "source": [
    "myList=[]\n",
    "myStr = \"Bugra Bekir\"\n",
    "for letter in myStr:\n",
    "    myList.append(letter)"
   ]
  },
  {
   "cell_type": "code",
   "execution_count": 43,
   "id": "3491e4d9",
   "metadata": {},
   "outputs": [
    {
     "data": {
      "text/plain": [
       "['B', 'u', 'g', 'r', 'a', ' ', 'B', 'e', 'k', 'i', 'r']"
      ]
     },
     "execution_count": 43,
     "metadata": {},
     "output_type": "execute_result"
    }
   ],
   "source": [
    "myList"
   ]
  },
  {
   "cell_type": "code",
   "execution_count": 44,
   "id": "28fb19c7",
   "metadata": {},
   "outputs": [],
   "source": [
    "newStr=\"Bugra Bekir\""
   ]
  },
  {
   "cell_type": "code",
   "execution_count": 45,
   "id": "65762e82",
   "metadata": {},
   "outputs": [
    {
     "data": {
      "text/plain": [
       "['B', 'u', 'g', 'r', 'a', ' ', 'B', 'e', 'k', 'i', 'r']"
      ]
     },
     "execution_count": 45,
     "metadata": {},
     "output_type": "execute_result"
    }
   ],
   "source": [
    "newList = [element for element in newStr] ## Ozel gosterim\n",
    "newList"
   ]
  },
  {
   "cell_type": "code",
   "execution_count": 46,
   "id": "df289e0f",
   "metadata": {},
   "outputs": [
    {
     "data": {
      "text/plain": [
       "[0, 5, 10, 15, 20, 25, 30, 35, 40, 45]"
      ]
     },
     "execution_count": 46,
     "metadata": {},
     "output_type": "execute_result"
    }
   ],
   "source": [
    "SecondList = [element*5 for element in range(0,10)]\n",
    "SecondList"
   ]
  },
  {
   "cell_type": "code",
   "execution_count": null,
   "id": "cb290c72",
   "metadata": {},
   "outputs": [],
   "source": []
  }
 ],
 "metadata": {
  "kernelspec": {
   "display_name": "Python 3 (ipykernel)",
   "language": "python",
   "name": "python3"
  },
  "language_info": {
   "codemirror_mode": {
    "name": "ipython",
    "version": 3
   },
   "file_extension": ".py",
   "mimetype": "text/x-python",
   "name": "python",
   "nbconvert_exporter": "python",
   "pygments_lexer": "ipython3",
   "version": "3.10.9"
  }
 },
 "nbformat": 4,
 "nbformat_minor": 5
}
