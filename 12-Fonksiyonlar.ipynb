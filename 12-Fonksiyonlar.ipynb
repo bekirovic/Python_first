{
 "cells": [
  {
   "cell_type": "code",
   "execution_count": 1,
   "id": "2854b797",
   "metadata": {},
   "outputs": [],
   "source": [
    "myName =\"Bugra Bekir\""
   ]
  },
  {
   "cell_type": "code",
   "execution_count": 3,
   "id": "68c4e5f6",
   "metadata": {},
   "outputs": [
    {
     "data": {
      "text/plain": [
       "'BUGRA BEKIR'"
      ]
     },
     "execution_count": 3,
     "metadata": {},
     "output_type": "execute_result"
    }
   ],
   "source": [
    "myName.upper()"
   ]
  },
  {
   "cell_type": "code",
   "execution_count": 4,
   "id": "3a30982e",
   "metadata": {},
   "outputs": [],
   "source": [
    "def myFunc(): ## def fonksiyon tanımlamasında kullanılır\n",
    "    print(\"first function\")"
   ]
  },
  {
   "cell_type": "code",
   "execution_count": 5,
   "id": "098c69d0",
   "metadata": {},
   "outputs": [
    {
     "name": "stdout",
     "output_type": "stream",
     "text": [
      "first function\n"
     ]
    }
   ],
   "source": [
    "myFunc() ## Parantez execution anlamına gelir"
   ]
  },
  {
   "cell_type": "markdown",
   "id": "92613d21",
   "metadata": {},
   "source": [
    "# input & return"
   ]
  },
  {
   "cell_type": "code",
   "execution_count": 12,
   "id": "dc15d014",
   "metadata": {},
   "outputs": [],
   "source": [
    "def HiWorld(name):\n",
    "    print(\"Hi!!!\")\n",
    "    print(name)"
   ]
  },
  {
   "cell_type": "code",
   "execution_count": 11,
   "id": "8e687aa4",
   "metadata": {},
   "outputs": [
    {
     "name": "stdout",
     "output_type": "stream",
     "text": [
      "Hi\n",
      "Bugra\n"
     ]
    }
   ],
   "source": [
    "HiWorld(\"Bugra\") ## Yukarda içi dolu tanımladığım için içi dolu olması lazım"
   ]
  },
  {
   "cell_type": "code",
   "execution_count": 13,
   "id": "db7ae7d2",
   "metadata": {},
   "outputs": [],
   "source": [
    "def merhaba(isim=\"Bugra\"):\n",
    "    print(\"merhaba\")\n",
    "    print(isim)"
   ]
  },
  {
   "cell_type": "code",
   "execution_count": 14,
   "id": "ca30bb15",
   "metadata": {},
   "outputs": [
    {
     "name": "stdout",
     "output_type": "stream",
     "text": [
      "merhaba\n",
      "Bugra\n"
     ]
    }
   ],
   "source": [
    "merhaba()"
   ]
  },
  {
   "cell_type": "code",
   "execution_count": 16,
   "id": "7e52a686",
   "metadata": {},
   "outputs": [
    {
     "name": "stdout",
     "output_type": "stream",
     "text": [
      "merhaba\n",
      "bekir\n"
     ]
    }
   ],
   "source": [
    "merhaba(\"bekir\")"
   ]
  },
  {
   "cell_type": "code",
   "execution_count": 17,
   "id": "9df07ad2",
   "metadata": {},
   "outputs": [],
   "source": [
    "def toplama(num1,num2):\n",
    "    print(\"num1 ve num2 toplamı\")\n",
    "    print(num1+num2)"
   ]
  },
  {
   "cell_type": "code",
   "execution_count": 19,
   "id": "cc36fb12",
   "metadata": {},
   "outputs": [
    {
     "name": "stdout",
     "output_type": "stream",
     "text": [
      "num1 ve num2 toplamı\n",
      "9\n"
     ]
    }
   ],
   "source": [
    "toplama(5,4)"
   ]
  },
  {
   "cell_type": "code",
   "execution_count": 20,
   "id": "eb3a7a3d",
   "metadata": {},
   "outputs": [
    {
     "name": "stdout",
     "output_type": "stream",
     "text": [
      "num1 ve num2 toplamı\n",
      "30\n"
     ]
    }
   ],
   "source": [
    "newElement=toplama(10,20)"
   ]
  },
  {
   "cell_type": "code",
   "execution_count": 22,
   "id": "dbe8540b",
   "metadata": {},
   "outputs": [
    {
     "name": "stdout",
     "output_type": "stream",
     "text": [
      "None\n"
     ]
    }
   ],
   "source": [
    "print(newElement) ## değer döndürmüyor bu yüzden none."
   ]
  },
  {
   "cell_type": "code",
   "execution_count": 23,
   "id": "07bfe5c3",
   "metadata": {},
   "outputs": [],
   "source": [
    "def dondurmeliToplama(num1,num2):\n",
    "    return num1+num2"
   ]
  },
  {
   "cell_type": "code",
   "execution_count": 26,
   "id": "e38fb35f",
   "metadata": {},
   "outputs": [],
   "source": [
    "sonuc=dondurmeliToplama(10,20)"
   ]
  },
  {
   "cell_type": "code",
   "execution_count": 27,
   "id": "c684f609",
   "metadata": {},
   "outputs": [
    {
     "data": {
      "text/plain": [
       "30"
      ]
     },
     "execution_count": 27,
     "metadata": {},
     "output_type": "execute_result"
    }
   ],
   "source": [
    "sonuc"
   ]
  },
  {
   "cell_type": "code",
   "execution_count": 28,
   "id": "d0c1da88",
   "metadata": {},
   "outputs": [
    {
     "data": {
      "text/plain": [
       "int"
      ]
     },
     "execution_count": 28,
     "metadata": {},
     "output_type": "execute_result"
    }
   ],
   "source": [
    "type(sonuc)"
   ]
  },
  {
   "cell_type": "code",
   "execution_count": 33,
   "id": "984fe1be",
   "metadata": {},
   "outputs": [],
   "source": [
    "def kontrolfunc(k):\n",
    "    if k==\"Bugra\":\n",
    "        print(\"nice\")\n",
    "    else:\n",
    "        print(\"another\")"
   ]
  },
  {
   "cell_type": "code",
   "execution_count": 34,
   "id": "7a389149",
   "metadata": {},
   "outputs": [
    {
     "name": "stdout",
     "output_type": "stream",
     "text": [
      "another\n"
     ]
    }
   ],
   "source": [
    "kontrolfunc(\"bugra\")"
   ]
  },
  {
   "cell_type": "code",
   "execution_count": 35,
   "id": "05501be7",
   "metadata": {},
   "outputs": [
    {
     "name": "stdout",
     "output_type": "stream",
     "text": [
      "nice\n"
     ]
    }
   ],
   "source": [
    "kontrolfunc(\"Bugra\")"
   ]
  },
  {
   "cell_type": "markdown",
   "id": "f4898bca",
   "metadata": {},
   "source": [
    "# args & kwargs"
   ]
  },
  {
   "cell_type": "code",
   "execution_count": 1,
   "id": "a3a17f15",
   "metadata": {},
   "outputs": [],
   "source": [
    "def newSum(*args): ## \"*args terimi argümanlar anlamına gelir\"\n",
    "    return sum(args) ## sum toplama fonksiyonu hali-hazırda var"
   ]
  },
  {
   "cell_type": "code",
   "execution_count": 2,
   "id": "8a8c31a0",
   "metadata": {},
   "outputs": [
    {
     "data": {
      "text/plain": [
       "150"
      ]
     },
     "execution_count": 2,
     "metadata": {},
     "output_type": "execute_result"
    }
   ],
   "source": [
    "newSum(10,20,30,40,50)"
   ]
  },
  {
   "cell_type": "code",
   "execution_count": 9,
   "id": "f44d7bff",
   "metadata": {},
   "outputs": [],
   "source": [
    "def myFunc(*args): \n",
    "    print(args)\n",
    "    return args"
   ]
  },
  {
   "cell_type": "code",
   "execution_count": 12,
   "id": "cf6ac7fd",
   "metadata": {},
   "outputs": [
    {
     "name": "stdout",
     "output_type": "stream",
     "text": [
      "('selam', 50)\n"
     ]
    },
    {
     "data": {
      "text/plain": [
       "('selam', 50)"
      ]
     },
     "execution_count": 12,
     "metadata": {},
     "output_type": "execute_result"
    }
   ],
   "source": [
    "myFunc(\"selam\",50)"
   ]
  },
  {
   "cell_type": "code",
   "execution_count": 11,
   "id": "cc016272",
   "metadata": {},
   "outputs": [
    {
     "name": "stdout",
     "output_type": "stream",
     "text": [
      "('selam', 50)\n"
     ]
    },
    {
     "data": {
      "text/plain": [
       "tuple"
      ]
     },
     "execution_count": 11,
     "metadata": {},
     "output_type": "execute_result"
    }
   ],
   "source": [
    "type(myFunc(\"selam\",50)) ## args lar tuple olarak kaydoluyor"
   ]
  },
  {
   "cell_type": "code",
   "execution_count": 17,
   "id": "edb71931",
   "metadata": {},
   "outputs": [],
   "source": [
    "def exampleFunc(**kwargs): ## 2 yıldız var kwargs yerine başka bir şey yazılabilir ama öyle kullanılıyor\n",
    "    print(kwargs)\n",
    "    return (kwargs)"
   ]
  },
  {
   "cell_type": "code",
   "execution_count": 19,
   "id": "8bc25def",
   "metadata": {},
   "outputs": [
    {
     "name": "stdout",
     "output_type": "stream",
     "text": [
      "{'muz': 100, 'elma': 200, 'ananas': 300}\n"
     ]
    },
    {
     "data": {
      "text/plain": [
       "dict"
      ]
     },
     "execution_count": 19,
     "metadata": {},
     "output_type": "execute_result"
    }
   ],
   "source": [
    "type(exampleFunc(muz=100,elma=200,ananas=300))"
   ]
  },
  {
   "cell_type": "code",
   "execution_count": 22,
   "id": "3cd63a39",
   "metadata": {},
   "outputs": [],
   "source": [
    "def keyWordControl(**kwargs):\n",
    "    if \"bugra\" in kwargs:\n",
    "        print(\"icinde bugra var\")\n",
    "    else:\n",
    "        print(\"icinde bugra yok\")"
   ]
  },
  {
   "cell_type": "code",
   "execution_count": 23,
   "id": "e8189555",
   "metadata": {},
   "outputs": [
    {
     "name": "stdout",
     "output_type": "stream",
     "text": [
      "icinde bugra var\n"
     ]
    }
   ],
   "source": [
    "keyWordControl(bugra=100,bekir=200)"
   ]
  },
  {
   "cell_type": "code",
   "execution_count": null,
   "id": "b060d513",
   "metadata": {},
   "outputs": [],
   "source": []
  }
 ],
 "metadata": {
  "kernelspec": {
   "display_name": "Python 3 (ipykernel)",
   "language": "python",
   "name": "python3"
  },
  "language_info": {
   "codemirror_mode": {
    "name": "ipython",
    "version": 3
   },
   "file_extension": ".py",
   "mimetype": "text/x-python",
   "name": "python",
   "nbconvert_exporter": "python",
   "pygments_lexer": "ipython3",
   "version": "3.10.9"
  }
 },
 "nbformat": 4,
 "nbformat_minor": 5
}
