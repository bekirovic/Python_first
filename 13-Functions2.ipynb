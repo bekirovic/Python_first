{
 "cells": [
  {
   "cell_type": "code",
   "execution_count": 2,
   "id": "28dd51ff",
   "metadata": {},
   "outputs": [],
   "source": [
    "def bolmeIslemi(num):\n",
    "    return num/2"
   ]
  },
  {
   "cell_type": "code",
   "execution_count": 3,
   "id": "716409fb",
   "metadata": {},
   "outputs": [
    {
     "data": {
      "text/plain": [
       "10.0"
      ]
     },
     "execution_count": 3,
     "metadata": {},
     "output_type": "execute_result"
    }
   ],
   "source": [
    "bolmeIslemi(20)"
   ]
  },
  {
   "cell_type": "code",
   "execution_count": 4,
   "id": "0538231a",
   "metadata": {},
   "outputs": [],
   "source": [
    "myList=(1,2,3,4,5,6,7,8,9,10)"
   ]
  },
  {
   "cell_type": "code",
   "execution_count": 8,
   "id": "78fce049",
   "metadata": {},
   "outputs": [
    {
     "data": {
      "text/plain": [
       "[0.5, 1.0, 1.5, 2.0, 2.5, 3.0, 3.5, 4.0, 4.5, 5.0]"
      ]
     },
     "execution_count": 8,
     "metadata": {},
     "output_type": "execute_result"
    }
   ],
   "source": [
    "newList =[]\n",
    "for num in myList:\n",
    "    newList.append(bolmeIslemi(num))\n",
    "newList"
   ]
  },
  {
   "cell_type": "markdown",
   "id": "64e37600",
   "metadata": {},
   "source": [
    "# map"
   ]
  },
  {
   "cell_type": "code",
   "execution_count": 10,
   "id": "851cd2be",
   "metadata": {},
   "outputs": [
    {
     "data": {
      "text/plain": [
       "[0.5, 1.0, 1.5, 2.0, 2.5, 3.0, 3.5, 4.0, 4.5, 5.0]"
      ]
     },
     "execution_count": 10,
     "metadata": {},
     "output_type": "execute_result"
    }
   ],
   "source": [
    "list(map(bolmeIslemi,myList)) ## map bir listeye bir func uyguladığında yeni bir liste olarak yazdırıyor"
   ]
  },
  {
   "cell_type": "code",
   "execution_count": 11,
   "id": "6f4736f8",
   "metadata": {},
   "outputs": [],
   "source": [
    "def controlFunc(string):\n",
    "    return \"a\" in string"
   ]
  },
  {
   "cell_type": "code",
   "execution_count": 13,
   "id": "3ce67e4a",
   "metadata": {},
   "outputs": [
    {
     "data": {
      "text/plain": [
       "True"
      ]
     },
     "execution_count": 13,
     "metadata": {},
     "output_type": "execute_result"
    }
   ],
   "source": [
    "controlFunc(\"bugra\")"
   ]
  },
  {
   "cell_type": "code",
   "execution_count": 14,
   "id": "d13ef3f3",
   "metadata": {},
   "outputs": [
    {
     "data": {
      "text/plain": [
       "[True, False, False, True, False]"
      ]
     },
     "execution_count": 14,
     "metadata": {},
     "output_type": "execute_result"
    }
   ],
   "source": [
    "stringList=[\"bugra\",\"bekir\",\"koc\",\"besiktas\",\"guney\"]\n",
    "list(map(controlFunc,stringList))"
   ]
  },
  {
   "cell_type": "markdown",
   "id": "591b3f55",
   "metadata": {},
   "source": [
    "# filter"
   ]
  },
  {
   "cell_type": "code",
   "execution_count": 15,
   "id": "d1b77a51",
   "metadata": {},
   "outputs": [
    {
     "data": {
      "text/plain": [
       "['bugra', 'besiktas']"
      ]
     },
     "execution_count": 15,
     "metadata": {},
     "output_type": "execute_result"
    }
   ],
   "source": [
    "list(filter(controlFunc,stringList))"
   ]
  },
  {
   "cell_type": "markdown",
   "id": "788d8e15",
   "metadata": {},
   "source": [
    "# lambda"
   ]
  },
  {
   "cell_type": "code",
   "execution_count": 16,
   "id": "01ea50f7",
   "metadata": {},
   "outputs": [],
   "source": [
    "multiply = lambda num : num *3"
   ]
  },
  {
   "cell_type": "code",
   "execution_count": 18,
   "id": "5f7adb04",
   "metadata": {},
   "outputs": [
    {
     "data": {
      "text/plain": [
       "30"
      ]
     },
     "execution_count": 18,
     "metadata": {},
     "output_type": "execute_result"
    }
   ],
   "source": [
    "multiply(10)"
   ]
  },
  {
   "cell_type": "code",
   "execution_count": 19,
   "id": "3a4fb607",
   "metadata": {},
   "outputs": [],
   "source": [
    "exampleList=[10,20,30]"
   ]
  },
  {
   "cell_type": "code",
   "execution_count": 22,
   "id": "e1c67e08",
   "metadata": {},
   "outputs": [
    {
     "data": {
      "text/plain": [
       "[30, 60, 90]"
      ]
     },
     "execution_count": 22,
     "metadata": {},
     "output_type": "execute_result"
    }
   ],
   "source": [
    "list(map(lambda num:num*3,exampleList))"
   ]
  },
  {
   "cell_type": "code",
   "execution_count": null,
   "id": "0c619cc6",
   "metadata": {},
   "outputs": [],
   "source": []
  }
 ],
 "metadata": {
  "kernelspec": {
   "display_name": "Python 3 (ipykernel)",
   "language": "python",
   "name": "python3"
  },
  "language_info": {
   "codemirror_mode": {
    "name": "ipython",
    "version": 3
   },
   "file_extension": ".py",
   "mimetype": "text/x-python",
   "name": "python",
   "nbconvert_exporter": "python",
   "pygments_lexer": "ipython3",
   "version": "3.10.9"
  }
 },
 "nbformat": 4,
 "nbformat_minor": 5
}
