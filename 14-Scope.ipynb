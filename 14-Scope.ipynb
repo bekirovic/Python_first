{
 "cells": [
  {
   "cell_type": "code",
   "execution_count": 1,
   "id": "a6c7938b",
   "metadata": {},
   "outputs": [],
   "source": [
    "num = 20\n",
    "def multiply(value):\n",
    "    num=10\n",
    "    return num*value"
   ]
  },
  {
   "cell_type": "code",
   "execution_count": 3,
   "id": "ab183386",
   "metadata": {},
   "outputs": [
    {
     "data": {
      "text/plain": [
       "50"
      ]
     },
     "execution_count": 3,
     "metadata": {},
     "output_type": "execute_result"
    }
   ],
   "source": [
    "multiply(5)"
   ]
  },
  {
   "cell_type": "code",
   "execution_count": 5,
   "id": "d726da9b",
   "metadata": {},
   "outputs": [
    {
     "name": "stdout",
     "output_type": "stream",
     "text": [
      "20\n"
     ]
    }
   ],
   "source": [
    "print(num) ## burdaki numara global olduğu için yani fonksiyon dışı olduğu için 20 oldu"
   ]
  },
  {
   "cell_type": "markdown",
   "id": "c27b8597",
   "metadata": {},
   "source": [
    "# Local , Enclosing , Global , Built-In"
   ]
  },
  {
   "cell_type": "code",
   "execution_count": 10,
   "id": "8819dadf",
   "metadata": {},
   "outputs": [],
   "source": [
    "myName=\"Bugra\" ## Global\n",
    "def myFunc():\n",
    "    myName = \"Bekir\" ## Enclosing\n",
    "    \n",
    "    def InternalFunc():\n",
    "        myName=\"Koc\" ## Local\n",
    "        print(myName)\n",
    "    InternalFunc()"
   ]
  },
  {
   "cell_type": "code",
   "execution_count": 12,
   "id": "4547cd52",
   "metadata": {},
   "outputs": [
    {
     "name": "stdout",
     "output_type": "stream",
     "text": [
      "Koc\n"
     ]
    }
   ],
   "source": [
    "myFunc()"
   ]
  },
  {
   "cell_type": "code",
   "execution_count": 13,
   "id": "f335d5a0",
   "metadata": {},
   "outputs": [
    {
     "name": "stdout",
     "output_type": "stream",
     "text": [
      "Bugra\n"
     ]
    }
   ],
   "source": [
    "#print(myName)"
   ]
  },
  {
   "cell_type": "code",
   "execution_count": null,
   "id": "66bfcc7b",
   "metadata": {},
   "outputs": [],
   "source": [
    "## Ilk once Local sonra Enclosing sonra Globale en son pyton kutuphaneleri olan Built-In e bakar\n",
    "## yani burda özelden ==> Genel e"
   ]
  },
  {
   "cell_type": "code",
   "execution_count": 15,
   "id": "cbf4ab6d",
   "metadata": {},
   "outputs": [],
   "source": [
    "y= 10\n",
    "def newFunc(y):\n",
    "    print(y)\n",
    "    y=5\n",
    "    print(y)\n",
    "    return y"
   ]
  },
  {
   "cell_type": "code",
   "execution_count": 16,
   "id": "86f971cb",
   "metadata": {},
   "outputs": [
    {
     "name": "stdout",
     "output_type": "stream",
     "text": [
      "3\n",
      "5\n"
     ]
    },
    {
     "data": {
      "text/plain": [
       "5"
      ]
     },
     "execution_count": 16,
     "metadata": {},
     "output_type": "execute_result"
    }
   ],
   "source": [
    "newFunc(3)"
   ]
  },
  {
   "cell_type": "code",
   "execution_count": 17,
   "id": "7999f7ae",
   "metadata": {},
   "outputs": [
    {
     "data": {
      "text/plain": [
       "10"
      ]
     },
     "execution_count": 17,
     "metadata": {},
     "output_type": "execute_result"
    }
   ],
   "source": [
    "y"
   ]
  },
  {
   "cell_type": "code",
   "execution_count": 18,
   "id": "9754e347",
   "metadata": {},
   "outputs": [],
   "source": [
    "y= 10\n",
    "\n",
    "def exampleFunc():\n",
    "    global y\n",
    "    y=5\n",
    "    print(y)"
   ]
  },
  {
   "cell_type": "code",
   "execution_count": 20,
   "id": "9a061319",
   "metadata": {},
   "outputs": [
    {
     "name": "stdout",
     "output_type": "stream",
     "text": [
      "5\n"
     ]
    }
   ],
   "source": [
    "exampleFunc()"
   ]
  },
  {
   "cell_type": "code",
   "execution_count": 22,
   "id": "1d57f7d8",
   "metadata": {},
   "outputs": [
    {
     "data": {
      "text/plain": [
       "5"
      ]
     },
     "execution_count": 22,
     "metadata": {},
     "output_type": "execute_result"
    }
   ],
   "source": [
    "y ## burda global yazarak global de y nin değerini değiştirdik"
   ]
  },
  {
   "cell_type": "code",
   "execution_count": 1,
   "id": "98b24d90",
   "metadata": {},
   "outputs": [
    {
     "ename": "SyntaxError",
     "evalue": "invalid syntax. Perhaps you forgot a comma? (705045160.py, line 4)",
     "output_type": "error",
     "traceback": [
      "\u001b[1;36m  Cell \u001b[1;32mIn[1], line 4\u001b[1;36m\u001b[0m\n\u001b[1;33m    return( str(a)+\" + \"+str(b)\" = \"+ str(a+b))\u001b[0m\n\u001b[1;37m            ^\u001b[0m\n\u001b[1;31mSyntaxError\u001b[0m\u001b[1;31m:\u001b[0m invalid syntax. Perhaps you forgot a comma?\n"
     ]
    }
   ],
   "source": [
    "def hesapla(a,b,islem):\n",
    "    \n",
    "    if islem ==\"+\":\n",
    "        return( str(a)+\" + \"+str(b)\" = \"+ str(a+b))\n",
    "    if islem ==\"-\":\n",
    "        return( str(a)+\" - \"+str(b)\" = \"+ str(a-b))\n",
    "    if islem ==\"*\":\n",
    "        return( str(a)+\" * \"+str(b)\" = \"+ str(a*b))\n",
    "    if islem ==\"/\":\n",
    "        return( str(a)+\" / \"+str(b)\" = \"+ str(a/b))\n",
    "while True:    \n",
    "    a= int(input(\"ilk sayıyı gir\"))\n",
    "    b= int(input(\"ikinci sayıyı gir\"))\n",
    "    c= int(input(\"istediginiz işlemi seçiniz: + - * /\"))\n",
    "    print(hesapla(a,b,islem))   "
   ]
  },
  {
   "cell_type": "code",
   "execution_count": null,
   "id": "86534feb",
   "metadata": {},
   "outputs": [],
   "source": []
  }
 ],
 "metadata": {
  "kernelspec": {
   "display_name": "Python 3 (ipykernel)",
   "language": "python",
   "name": "python3"
  },
  "language_info": {
   "codemirror_mode": {
    "name": "ipython",
    "version": 3
   },
   "file_extension": ".py",
   "mimetype": "text/x-python",
   "name": "python",
   "nbconvert_exporter": "python",
   "pygments_lexer": "ipython3",
   "version": "3.10.9"
  }
 },
 "nbformat": 4,
 "nbformat_minor": 5
}
