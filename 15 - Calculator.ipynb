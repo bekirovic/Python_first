{
 "cells": [
  {
   "cell_type": "code",
   "execution_count": null,
   "id": "8103630b",
   "metadata": {},
   "outputs": [
    {
     "name": "stdout",
     "output_type": "stream",
     "text": [
      "ilk sayıyı gir:15.2\n",
      "ikinci sayıyı gir:16.2\n",
      " istediginiz işlemi seçiniz: + - / *+\n",
      "15.2 + 16.2 = 31.4\n"
     ]
    }
   ],
   "source": [
    "def hesapla(a,b,islem):\n",
    "    if islem not in \"+-/*\":\n",
    "        return \"Lütfen operasyonu seçiniz:+-/*\"\n",
    "\n",
    "    elif islem ==\"+\":\n",
    "        return(str(a)+\" + \"+str(b)+\" = \"+ str(a+b))\n",
    "    elif islem ==\"-\":\n",
    "        return(str(a)+\" - \"+str(b)+\" = \"+ str(a-b))\n",
    "    elif islem ==\"*\":\n",
    "        return(str(a)+\" * \"+str(b)+\" = \"+ str(a*b))\n",
    "    elif islem ==\"/\":\n",
    "        return(str(a)+\" / \"+str(b)+\" = \"+ str(a/b))\n",
    "while True:\n",
    "    try:\n",
    "        a= float(input(\"ilk sayıyı gir:\"))\n",
    "        b= float(input(\"ikinci sayıyı gir:\"))\n",
    "        islem= input(\" istediginiz işlemi seçiniz: + - / *\")\n",
    "        print(hesapla(a,b,islem))\n",
    "    except:\n",
    "        print(\"lütfen sayıları düzgün giriniz\")"
   ]
  },
  {
   "cell_type": "code",
   "execution_count": null,
   "id": "4b03c370",
   "metadata": {},
   "outputs": [],
   "source": []
  },
  {
   "cell_type": "code",
   "execution_count": null,
   "id": "280a595e",
   "metadata": {},
   "outputs": [],
   "source": []
  }
 ],
 "metadata": {
  "kernelspec": {
   "display_name": "Python 3 (ipykernel)",
   "language": "python",
   "name": "python3"
  },
  "language_info": {
   "codemirror_mode": {
    "name": "ipython",
    "version": 3
   },
   "file_extension": ".py",
   "mimetype": "text/x-python",
   "name": "python",
   "nbconvert_exporter": "python",
   "pygments_lexer": "ipython3",
   "version": "3.10.9"
  }
 },
 "nbformat": 4,
 "nbformat_minor": 5
}
