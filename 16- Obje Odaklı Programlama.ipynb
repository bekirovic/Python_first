{
 "cells": [
  {
   "cell_type": "markdown",
   "id": "a0a8c386",
   "metadata": {},
   "source": [
    "## Instance & Attribute"
   ]
  },
  {
   "cell_type": "code",
   "execution_count": 2,
   "id": "2b394a95",
   "metadata": {},
   "outputs": [],
   "source": [
    "## Instance: Nesne , Attribute: kendi özellikleri"
   ]
  },
  {
   "cell_type": "code",
   "execution_count": 34,
   "id": "53757c57",
   "metadata": {},
   "outputs": [],
   "source": [
    "class Hero(): ## sınıfların baş harfi büyük olur.\n",
    "    def __init__(self,isim,yas,meslek): ## initilaizing anlamına gelir. self yazmamız gerekiyor her nesne yapıldığında çağrılan bir fonksiyondur.\n",
    "        print(\"init çağrıldı\")\n",
    "        self.isim = isim\n",
    "        self.yas = yas\n",
    "        self.meslek= meslek\n",
    "    def ornekmethod(self):\n",
    "        print(f\"ben heroyumm ve meslegim : {self.meslek}\")"
   ]
  },
  {
   "cell_type": "code",
   "execution_count": 35,
   "id": "6e450134",
   "metadata": {},
   "outputs": [
    {
     "name": "stdout",
     "output_type": "stream",
     "text": [
      "init çağrıldı\n"
     ]
    }
   ],
   "source": [
    "spiderman = Hero(\"spiderman\",30,\"fotografcı\")"
   ]
  },
  {
   "cell_type": "code",
   "execution_count": 36,
   "id": "46df1241",
   "metadata": {},
   "outputs": [
    {
     "data": {
      "text/plain": [
       "'spiderman'"
      ]
     },
     "execution_count": 36,
     "metadata": {},
     "output_type": "execute_result"
    }
   ],
   "source": [
    "spiderman.isim"
   ]
  },
  {
   "cell_type": "code",
   "execution_count": 37,
   "id": "a02c905c",
   "metadata": {},
   "outputs": [
    {
     "data": {
      "text/plain": [
       "30"
      ]
     },
     "execution_count": 37,
     "metadata": {},
     "output_type": "execute_result"
    }
   ],
   "source": [
    "spiderman.yas"
   ]
  },
  {
   "cell_type": "code",
   "execution_count": 38,
   "id": "62a71b6f",
   "metadata": {},
   "outputs": [
    {
     "name": "stdout",
     "output_type": "stream",
     "text": [
      "ben heroyumm ve meslegim : fotografcı\n"
     ]
    }
   ],
   "source": [
    "spiderman.ornekmethod()"
   ]
  },
  {
   "cell_type": "code",
   "execution_count": 1,
   "id": "cefca8fb",
   "metadata": {},
   "outputs": [],
   "source": [
    "class Dog():\n",
    "    \n",
    "    yilcarpani= 7\n",
    "    \n",
    "    def __init__(self,yas=\"yasını yaz\"):\n",
    "        self.yas=yas\n",
    "    \n",
    "    def InsanYasi(self):\n",
    "        return self.yas * self.yilcarpani ##print(f\"Insan yası olarak:{self.yas*7}\")"
   ]
  },
  {
   "cell_type": "code",
   "execution_count": 2,
   "id": "7f8336f0",
   "metadata": {},
   "outputs": [],
   "source": [
    "Mydog = Dog() "
   ]
  },
  {
   "cell_type": "code",
   "execution_count": 3,
   "id": "d18d6df5",
   "metadata": {},
   "outputs": [
    {
     "data": {
      "text/plain": [
       "'yasını yaz'"
      ]
     },
     "execution_count": 3,
     "metadata": {},
     "output_type": "execute_result"
    }
   ],
   "source": [
    "Mydog.yas"
   ]
  },
  {
   "cell_type": "code",
   "execution_count": 4,
   "id": "ef405e53",
   "metadata": {},
   "outputs": [],
   "source": [
    "Mydog = Dog(3)"
   ]
  },
  {
   "cell_type": "code",
   "execution_count": 5,
   "id": "fdc4c7bc",
   "metadata": {},
   "outputs": [
    {
     "data": {
      "text/plain": [
       "3"
      ]
     },
     "execution_count": 5,
     "metadata": {},
     "output_type": "execute_result"
    }
   ],
   "source": [
    "Mydog.yas"
   ]
  },
  {
   "cell_type": "code",
   "execution_count": 6,
   "id": "b7849f86",
   "metadata": {},
   "outputs": [
    {
     "data": {
      "text/plain": [
       "7"
      ]
     },
     "execution_count": 6,
     "metadata": {},
     "output_type": "execute_result"
    }
   ],
   "source": [
    "Mydog.yilcarpani"
   ]
  },
  {
   "cell_type": "code",
   "execution_count": 8,
   "id": "73d675a5",
   "metadata": {},
   "outputs": [
    {
     "data": {
      "text/plain": [
       "21"
      ]
     },
     "execution_count": 8,
     "metadata": {},
     "output_type": "execute_result"
    }
   ],
   "source": [
    "Mydog.InsanYasi()"
   ]
  },
  {
   "cell_type": "markdown",
   "id": "e5cb6cee",
   "metadata": {},
   "source": [
    "## inheritance"
   ]
  },
  {
   "cell_type": "code",
   "execution_count": 1,
   "id": "15f22e99",
   "metadata": {},
   "outputs": [],
   "source": [
    "## miras alma sınıflar arası "
   ]
  },
  {
   "cell_type": "code",
   "execution_count": 2,
   "id": "35717001",
   "metadata": {},
   "outputs": [],
   "source": [
    "class Animal():\n",
    "    def __init__(self):\n",
    "        print(\"hayvan sınıfı init çağırıldı\")\n",
    "        \n",
    "    def method1(self):\n",
    "        print(\"method 1 cagrıldı\")\n",
    "    \n",
    "    def method2(self):\n",
    "        print(\"method 2 cagrıldı\")"
   ]
  },
  {
   "cell_type": "code",
   "execution_count": 3,
   "id": "6d697735",
   "metadata": {},
   "outputs": [
    {
     "name": "stdout",
     "output_type": "stream",
     "text": [
      "hayvan sınıfı init çağırıldı\n"
     ]
    }
   ],
   "source": [
    "myAnimal= Animal()"
   ]
  },
  {
   "cell_type": "code",
   "execution_count": 5,
   "id": "50148291",
   "metadata": {},
   "outputs": [
    {
     "name": "stdout",
     "output_type": "stream",
     "text": [
      "method 1 cagrıldı\n"
     ]
    }
   ],
   "source": [
    "myAnimal.method1()"
   ]
  },
  {
   "cell_type": "code",
   "execution_count": 6,
   "id": "bb4e14c3",
   "metadata": {},
   "outputs": [
    {
     "name": "stdout",
     "output_type": "stream",
     "text": [
      "method 2 cagrıldı\n"
     ]
    }
   ],
   "source": [
    "myAnimal.method2()"
   ]
  },
  {
   "cell_type": "code",
   "execution_count": 16,
   "id": "7834b5a6",
   "metadata": {},
   "outputs": [],
   "source": [
    "class Kedi(Animal):\n",
    "    def __init__(self):\n",
    "        Animal.__init__(self)\n",
    "        print(\"kedi sınıfı init çagrıldı\")\n",
    "    def method3(self):\n",
    "        print(\"miyavla\")\n",
    "    def method1(self): ##override\n",
    "        print(\"kedideki method1 çagırıldı\")"
   ]
  },
  {
   "cell_type": "code",
   "execution_count": 17,
   "id": "a4868e7c",
   "metadata": {},
   "outputs": [
    {
     "name": "stdout",
     "output_type": "stream",
     "text": [
      "hayvan sınıfı init çağırıldı\n",
      "kedi sınıfı init çagrıldı\n"
     ]
    }
   ],
   "source": [
    "myKedi=Kedi()"
   ]
  },
  {
   "cell_type": "code",
   "execution_count": 18,
   "id": "cd13f2e8",
   "metadata": {},
   "outputs": [
    {
     "name": "stdout",
     "output_type": "stream",
     "text": [
      "kedideki method1 çagırıldı\n",
      "method 2 cagrıldı\n",
      "miyavla\n"
     ]
    }
   ],
   "source": [
    "myKedi.method1()\n",
    "myKedi.method2()\n",
    "myKedi.method3()"
   ]
  },
  {
   "cell_type": "markdown",
   "id": "8887be41",
   "metadata": {},
   "source": []
  }
 ],
 "metadata": {
  "kernelspec": {
   "display_name": "Python 3 (ipykernel)",
   "language": "python",
   "name": "python3"
  },
  "language_info": {
   "codemirror_mode": {
    "name": "ipython",
    "version": 3
   },
   "file_extension": ".py",
   "mimetype": "text/x-python",
   "name": "python",
   "nbconvert_exporter": "python",
   "pygments_lexer": "ipython3",
   "version": "3.10.9"
  }
 },
 "nbformat": 4,
 "nbformat_minor": 5
}
