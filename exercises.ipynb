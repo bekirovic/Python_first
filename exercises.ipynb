{
 "cells": [
  {
   "cell_type": "code",
   "execution_count": 2,
   "id": "3e0893db",
   "metadata": {},
   "outputs": [
    {
     "name": "stdout",
     "output_type": "stream",
     "text": [
      "Enter the number1:8\n",
      "Enter the number2:9\n",
      "17\n"
     ]
    }
   ],
   "source": [
    "##1 to Add Two Numbers\n",
    "x=int(input(\"Enter the number1:\"))\n",
    "y=int(input(\"Enter the number2:\"))\n",
    "z=x+y\n",
    "print(z)"
   ]
  },
  {
   "cell_type": "code",
   "execution_count": 6,
   "id": "65a2ca82",
   "metadata": {},
   "outputs": [
    {
     "name": "stdout",
     "output_type": "stream",
     "text": [
      "enter a number10+2j\n",
      "the square root of (10+2j) is 3.178+0.315j\n"
     ]
    }
   ],
   "source": [
    "##2 to program calculate square root\n",
    "import cmath\n",
    "x=0\n",
    "x=eval(input(\"enter a number\"))\n",
    "##print(type(x))\n",
    "if type(x)==float:\n",
    "    y=float(x**0.5)\n",
    "    print(\"the square root of %f is %f\"%(x,y))\n",
    "elif type(x)== complex:\n",
    "    y=cmath.sqrt(x)\n",
    "    print(\"the square root of {0} is {1:0.3f}+{2:0.3f}j\".format(x,y.real,y.imag))\n"
   ]
  },
  {
   "cell_type": "code",
   "execution_count": null,
   "id": "3581a569",
   "metadata": {},
   "outputs": [],
   "source": []
  }
 ],
 "metadata": {
  "kernelspec": {
   "display_name": "Python 3 (ipykernel)",
   "language": "python",
   "name": "python3"
  },
  "language_info": {
   "codemirror_mode": {
    "name": "ipython",
    "version": 3
   },
   "file_extension": ".py",
   "mimetype": "text/x-python",
   "name": "python",
   "nbconvert_exporter": "python",
   "pygments_lexer": "ipython3",
   "version": "3.10.9"
  }
 },
 "nbformat": 4,
 "nbformat_minor": 5
}
